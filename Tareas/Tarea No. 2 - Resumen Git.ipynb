{
 "metadata": {
  "language_info": {
   "codemirror_mode": {
    "name": "ipython",
    "version": 3
   },
   "file_extension": ".py",
   "mimetype": "text/x-python",
   "name": "python",
   "nbconvert_exporter": "python",
   "pygments_lexer": "ipython3",
   "version": "3.8.5-final"
  },
  "orig_nbformat": 2,
  "kernelspec": {
   "name": "python3",
   "display_name": "Python 3",
   "language": "python"
  }
 },
 "nbformat": 4,
 "nbformat_minor": 2,
 "cells": [
  {
   "source": [
    "# Version Control (Git)\n",
    "\n",
    "Los \"version control systems\" (VCSs) son herramientas que sirven para llevar un historial de los cambios realizados al código fuente (así como archivos y folders). Además también facilita la colaboración. El VCS más común en la actualidad es Git.\n",
    "\n",
    "## Modelo de Datos de Git\n",
    "\n",
    "### Snapshots\n",
    "\n",
    "En Git, a un archivo se le llama \"blob\" (un grupo de bytes) y a las carpetas que contienen archivos se les llama \"árboles\".\n",
    "\n",
    "```json\n",
    "<root> (tree)\n",
    "|\n",
    "+- foo (tree)\n",
    "|  |\n",
    "|  + bar.txt (blob, contents = \"hello world\")\n",
    "|\n",
    "+- baz.txt (blob, contents = \"git is wonderful\")\n",
    "```\n",
    "\n",
    "### Modeling History: Relating Snapshots\n",
    "\n",
    "Al estado de un programa en un momento específico se le denomina \"snapshot\". Para relacionar diferentes snapshots, Git utiliza un grafo dirigido acíclico (DAG), o un grupo de snapshots que apuntan a versiones previas, predecesores o \"padres\".\n",
    "\n",
    "```json\n",
    "o <-- o <-- o <-- o\n",
    "            ^\n",
    "             \\\n",
    "              --- o <-- o\n",
    "```\n",
    "\n",
    "A cada nodo en el grafo se le llama \"commit\". Las flechas apuntan a los \"padres\" de cada commit. Como se vio antes, el historial de commits puede no siempre ser lineal. A veces puede diverger en ciertos nodos (para acomodar nuevas características por ejemplo) o en algunos momentos reunirse en \"merge commits\".\n",
    "\n",
    "```\n",
    "o <-- o <-- o <-- o <---- o\n",
    "            ^            /\n",
    "             \\          v\n",
    "              --- o <-- o\n",
    "```\n",
    "\n",
    "Los commits en Git son inmutables. No pueden cambiarse. Los errores pueden corregirse pero las ediciones al commit lo único que hacen es crear un nuevo commit.\n",
    "\n",
    "### Data Model, as Pseudocode\n",
    "\n",
    "```\n",
    "// a file is a bunch of bytes\n",
    "type blob = array<byte>\n",
    "\n",
    "// a directory contains named files and directories\n",
    "type tree = map<string, tree | blob>\n",
    "\n",
    "// a commit has parents, metadata, and the top-level tree\n",
    "type commit = struct {\n",
    "    parent: array<commit>\n",
    "    author: string\n",
    "    message: string\n",
    "    snapshot: tree\n",
    "}\n",
    "```\n",
    "\n",
    "### Objects and Content-addressing\n",
    "\n",
    "Un objeto puede ser un \"blob\", arbol o commit. En Git, todos los objetos son utilizados apuntando a su hash SHA-1.\n",
    "\n",
    "```\n",
    "objects = map<string, object>\n",
    "\n",
    "def store(object):\n",
    "    id = sha1(object)\n",
    "    objects[id] = object\n",
    "\n",
    "def load(id):\n",
    "    return objects[id]\n",
    "```\n",
    "\n",
    "Cuando un objeto referencia a otro, estos no guardan una copia de los mismos en memoria sino que hacen uso del hash. Por ejemplo, para el arbol `<root> (tree)` el hash es el siguiente:\n",
    "\n",
    "```\n",
    "100644 blob 4448adbf7ecd394f42ae135bbeed9676e894af85    baz.txt\n",
    "040000 tree c68d233a33c5c06e0340e4c224f0afca87c8ce87    foo\n",
    "```\n",
    "\n",
    "Si se revisan los contenidos referenciados por el hash que representa a `baz.txt` se obtiene el siguiente texto (utilizando el comando `git cat-file -p 4448adbf7ecd394f42ae135bbeed9676e894af85`)\n",
    "\n",
    "`git is wonderful`\n",
    "\n",
    "### References\n",
    "\n",
    "Lo malo de identificar snapshots por su hash SHA-1 es que no es práctico recordar un string de 40 números hexadecimales. La solución propuesta por git para esto son las \"referencias\", nombres legibles por humanos que apuntan a un snapshot específico. Las referencias apuntan a commits y no son inmutables (como los commits). \n",
    "\n",
    "En Git, al \"presente\" o snapshot actual se le denomina \"HEAD\".\n",
    "\n",
    "### Repositories\n",
    "\n",
    "Un repositorio consiste del conjunto de `objetos` y `referencias`. Esto es lo único que Git almacena en memoria. Todos los comandos `git` únicamente manipulan el grafo acíclico (DAG) al agregar objetos y actualizar referencias. \n",
    "\n",
    "Por ejemplo, si se desean descartar cambios \"uncommited\" y luego hacer que el \"master\" referencie al commit `5d83f9e`, se hace lo siguiente.\n",
    "\n",
    "```json\n",
    "checkout master\n",
    "git reset --hard 5d83f9e\n",
    "```\n",
    "\n",
    "### Staging Area \n",
    "\n",
    "Git no solo \"crea un snapshot\" a partir del estado actual de un directorio. Git permite elegir los archivos que se incluirán en el snapshot por medio de la \"staging area\".\n",
    "\n",
    "### Git Command-line Interface\n",
    "\n",
    "#### Basics\n",
    "\n",
    "- `git help <command>`: Ayuda para un comando.\n",
    "- `git init`: Crea un nuevo repo con datos guardados en el archivo `.git`.\n",
    "- `git status`: \n",
    "\n",
    "### Ejemplos\n",
    "\n",
    "Se inicializará un repositorio para poder \"trackear\" las tareas y proyectos futuros que se realizarán en la clase de \"Ciencia de Datos en Python\"."
   ],
   "cell_type": "markdown",
   "metadata": {}
  },
  {
   "cell_type": "code",
   "execution_count": 4,
   "metadata": {},
   "outputs": [
    {
     "output_type": "stream",
     "name": "stdout",
     "text": [
      "E:\\Archivos\\Educación\\Posgrado\\Universidad Galileo (UG)\\Ciencia de Datos en Python\n"
     ]
    }
   ],
   "source": [
    "# Importa la librería \"os\"\n",
    "import os\n",
    "\n",
    "# Cambia el directorio local para iniciar el repo en este directorio\n",
    "os.chdir(\"E:\\\\Archivos\\\\Educación\\\\Posgrado\\\\Universidad Galileo (UG)\\\\Ciencia de Datos en Python\")\n",
    "\n",
    "# Imprime el directorio actual\n",
    "print(os.getcwd())"
   ]
  },
  {
   "cell_type": "code",
   "execution_count": 5,
   "metadata": {},
   "outputs": [
    {
     "output_type": "stream",
     "name": "stdout",
     "text": [
      "Initialized empty Git repository in E:/Archivos/Educación/Posgrado/Universidad Galileo (UG)/Ciencia de Datos en Python/.git/\n"
     ]
    }
   ],
   "source": [
    "# Inicializa el repositorio en el directorio actual\n",
    "!git init"
   ]
  },
  {
   "cell_type": "code",
   "execution_count": 6,
   "metadata": {},
   "outputs": [
    {
     "output_type": "stream",
     "name": "stdout",
     "text": [
      "On branch master\n\nNo commits yet\n\nUntracked files:\n  (use \"git add <file>...\" to include in what will be committed)\n\t.vscode/\n\tLectures/\n\tLiteratura/\n\tTareas/\n\nnothing added to commit but untracked files present (use \"git add\" to track)\n"
     ]
    }
   ],
   "source": [
    "# Notifica sobre archivos no \"stageados\" y archivos no trackeados en el master.\n",
    "!git status"
   ]
  },
  {
   "cell_type": "code",
   "execution_count": 8,
   "metadata": {},
   "outputs": [
    {
     "output_type": "stream",
     "name": "stderr",
     "text": [
      "warning: LF will be replaced by CRLF in Tareas/Tarea No. 2 - Resumen Git.ipynb.\nThe file will have its original line endings in your working directory\n"
     ]
    }
   ],
   "source": [
    "# \"Stagea\" un archivo para un commit\n",
    "!git add \"Tareas/Tarea No. 2 - Resumen Git.ipynb\""
   ]
  },
  {
   "cell_type": "code",
   "execution_count": 9,
   "metadata": {},
   "outputs": [
    {
     "output_type": "stream",
     "name": "stdout",
     "text": [
      "[master (root-commit) 3c560a7] Jupyter notebook de la tarea no 2\n 1 file changed, 281 insertions(+)\n create mode 100644 Tareas/Tarea No. 2 - Resumen Git.ipynb\n"
     ]
    }
   ],
   "source": [
    "# Hace un commit\n",
    "!git commit "
   ]
  },
  {
   "cell_type": "code",
   "execution_count": 10,
   "metadata": {},
   "outputs": [
    {
     "output_type": "stream",
     "name": "stdout",
     "text": [
      "* commit 3c560a7efa7542a8fa07a543c8a66217e8494ec2 (HEAD -> master)\n",
      "  Author: eddysanoli <eddysanoli@gmail.com>\n",
      "  Date:   Wed Feb 10 21:44:53 2021 -0600\n",
      "  \n",
      "      Jupyter notebook de la tarea no 2\n"
     ]
    }
   ],
   "source": [
    "# Muestra los commits realizados hasta ahora en la forma de un grafo\n",
    "!git log --all --graph --decorate "
   ]
  },
  {
   "cell_type": "code",
   "execution_count": 11,
   "metadata": {},
   "outputs": [],
   "source": [
    "# Se \"stagea\" el archivo de la tarea 1\n",
    "!git add \"Tareas/Tarea No. 1 - Herramientas.docx\""
   ]
  },
  {
   "cell_type": "code",
   "execution_count": 12,
   "metadata": {},
   "outputs": [
    {
     "output_type": "stream",
     "name": "stdout",
     "text": [
      "[master 4c20e71] Resolucion de tarea no 2\n 1 file changed, 0 insertions(+), 0 deletions(-)\n create mode 100644 Tareas/Tarea No. 1 - Herramientas.docx\n"
     ]
    }
   ],
   "source": [
    "# Nuevo commit con los archivos de la tarea 1\n",
    "# El mensaje que acompaña al commit estará incorrecto y \n",
    "# mencionará la tarea 2 en lugar de la 1. Esto se solucionará después.\n",
    "!git commit"
   ]
  },
  {
   "cell_type": "code",
   "execution_count": 14,
   "metadata": {},
   "outputs": [
    {
     "output_type": "stream",
     "name": "stdout",
     "text": [
      "[master 1fdfecd] Resolucion de tarea no 1\n Date: Wed Feb 10 21:47:52 2021 -0600\n 1 file changed, 0 insertions(+), 0 deletions(-)\n create mode 100644 Tareas/Tarea No. 1 - Herramientas.docx\n"
     ]
    }
   ],
   "source": [
    "# Se corrige el mensaje del commit\n",
    "!git commit --amend"
   ]
  },
  {
   "cell_type": "code",
   "execution_count": 15,
   "metadata": {},
   "outputs": [
    {
     "output_type": "stream",
     "name": "stdout",
     "text": [
      "* commit 1fdfecd48ac11e6e2436bdd43b8b08f6d2a9cc39 (HEAD -> master)\n| Author: eddysanoli <eddysanoli@gmail.com>\n| Date:   Wed Feb 10 21:47:52 2021 -0600\n| \n|     Resolucion de tarea no 1\n| \n* commit 3c560a7efa7542a8fa07a543c8a66217e8494ec2\n  Author: eddysanoli <eddysanoli@gmail.com>\n  Date:   Wed Feb 10 21:44:53 2021 -0600\n  \n      Jupyter notebook de la tarea no 2\n"
     ]
    }
   ],
   "source": [
    "# Se muestra la nueva historia de commits\n",
    "!git log --all --graph --decorate "
   ]
  },
  {
   "cell_type": "code",
   "execution_count": 16,
   "metadata": {},
   "outputs": [],
   "source": [
    "# Se crea la rama \"literatura\"\n",
    "!git branch \"Literatura\""
   ]
  },
  {
   "cell_type": "code",
   "execution_count": 18,
   "metadata": {},
   "outputs": [
    {
     "output_type": "stream",
     "name": "stdout",
     "text": [
      "  Literatura\n",
      "* master\n",
      "* commit 1fdfecd48ac11e6e2436bdd43b8b08f6d2a9cc39 (HEAD -> master, Literatura)\n",
      "| Author: eddysanoli <eddysanoli@gmail.com>\n",
      "| Date:   Wed Feb 10 21:47:52 2021 -0600\n",
      "| \n",
      "|     Resolucion de tarea no 1\n",
      "| \n",
      "* commit 3c560a7efa7542a8fa07a543c8a66217e8494ec2\n",
      "  Author: eddysanoli <eddysanoli@gmail.com>\n",
      "  Date:   Wed Feb 10 21:44:53 2021 -0600\n",
      "  \n",
      "      Jupyter notebook de la tarea no 2\n"
     ]
    }
   ],
   "source": [
    "# Se muestran las branches\n",
    "!git branch\n",
    "!git log --all --graph --decorate "
   ]
  },
  {
   "cell_type": "code",
   "execution_count": 21,
   "metadata": {},
   "outputs": [
    {
     "output_type": "stream",
     "name": "stdout",
     "text": [
      "On branch master\nUntracked files:\n  (use \"git add <file>...\" to include in what will be committed)\n\t.gitignore\n\t.vscode/\n\tLectures/\n\tLiteratura/\n\tTareas/Tarea No. 1 - Herramientas.pdf\n\nnothing added to commit but untracked files present (use \"git add\" to track)\n"
     ]
    }
   ],
   "source": [
    "!git status"
   ]
  },
  {
   "cell_type": "code",
   "execution_count": 22,
   "metadata": {},
   "outputs": [],
   "source": [
    "# Se agrega un archivo de .gitignore para obviar las carpetas\n",
    "# \".vscode\", \"Lectures\" y \"Literatura\"\n",
    "!git add \".gitignore\""
   ]
  },
  {
   "cell_type": "code",
   "execution_count": 23,
   "metadata": {},
   "outputs": [
    {
     "output_type": "stream",
     "name": "stdout",
     "text": [
      "[master ee16139] Adicion de archivo \"gitignore\"\n 1 file changed, 3 insertions(+)\n create mode 100644 .gitignore\n"
     ]
    }
   ],
   "source": [
    "# Se hace el\n",
    "!git commit"
   ]
  },
  {
   "cell_type": "code",
   "execution_count": 25,
   "metadata": {},
   "outputs": [
    {
     "output_type": "stream",
     "name": "stdout",
     "text": [
      "On branch master\nUntracked files:\n  (use \"git add <file>...\" to include in what will be committed)\n\tTareas/Tarea No. 1 - Herramientas.pdf\n\nnothing added to commit but untracked files present (use \"git add\" to track)\n"
     ]
    }
   ],
   "source": [
    "# Luego del commit ya no se considera a las carpetas \n",
    "# \".vscode\", \"Lectures\" y \"Literatura\" como \"untracked files\"\n",
    "!git status"
   ]
  },
  {
   "cell_type": "code",
   "execution_count": 26,
   "metadata": {},
   "outputs": [
    {
     "output_type": "stream",
     "name": "stderr",
     "text": [
      "Switched to branch 'Literatura'\n"
     ]
    }
   ],
   "source": [
    "# Se cambia a la branch \"Literatura\"\n",
    "!git checkout Literatura"
   ]
  },
  {
   "cell_type": "code",
   "execution_count": 27,
   "metadata": {},
   "outputs": [
    {
     "output_type": "stream",
     "name": "stdout",
     "text": [
      "[Literatura ff922a4] PDF de la tarea no 1\n 1 file changed, 0 insertions(+), 0 deletions(-)\n create mode 100644 Tareas/Tarea No. 1 - Herramientas.pdf\n"
     ]
    }
   ],
   "source": [
    "# Se hace un commit con la versión pdf de la tarea 1\n",
    "!git add \"Tareas/Tarea No. 1 - Herramientas.pdf\"\n",
    "!git commit"
   ]
  },
  {
   "cell_type": "code",
   "execution_count": 28,
   "metadata": {},
   "outputs": [
    {
     "output_type": "stream",
     "name": "stdout",
     "text": [
      "* commit ff922a48d56d60f3a5f46b5c6c991180a99e3818 (HEAD -> Literatura)\n",
      "| Author: eddysanoli <eddysanoli@gmail.com>\n",
      "| Date:   Wed Feb 10 22:11:47 2021 -0600\n",
      "| \n",
      "|     PDF de la tarea no 1\n",
      "|   \n",
      "| * commit ee161392274a0bced502820b1ae66bbd9180e18a (master)\n",
      "|/  Author: eddysanoli <eddysanoli@gmail.com>\n",
      "|   Date:   Wed Feb 10 22:06:23 2021 -0600\n",
      "|   \n",
      "|       Adicion de archivo \"gitignore\"\n",
      "| \n",
      "* commit 1fdfecd48ac11e6e2436bdd43b8b08f6d2a9cc39\n",
      "| Author: eddysanoli <eddysanoli@gmail.com>\n",
      "| Date:   Wed Feb 10 21:47:52 2021 -0600\n",
      "| \n",
      "|     Resolucion de tarea no 1\n",
      "| \n",
      "* commit 3c560a7efa7542a8fa07a543c8a66217e8494ec2\n",
      "  Author: eddysanoli <eddysanoli@gmail.com>\n",
      "  Date:   Wed Feb 10 21:44:53 2021 -0600\n",
      "  \n",
      "      Jupyter notebook de la tarea no 2\n"
     ]
    }
   ],
   "source": [
    "# Se observa como el commit se realizó en la branch \"Literatura\"\n",
    "!git log --all --graph --decorate "
   ]
  },
  {
   "cell_type": "code",
   "execution_count": 30,
   "metadata": {},
   "outputs": [
    {
     "output_type": "stream",
     "name": "stdout",
     "text": [
      "[Literatura 38909d7] Archivo .gitignore de la branch \"Literatura\"\n 1 file changed, 3 insertions(+)\n create mode 100644 .gitignore\n"
     ]
    }
   ],
   "source": [
    "# Se agrega el archivo \".gitignore\" en esta branch\n",
    "!git add \".gitignore\"\n",
    "!git commit"
   ]
  },
  {
   "cell_type": "code",
   "execution_count": 32,
   "metadata": {},
   "outputs": [
    {
     "output_type": "stream",
     "name": "stderr",
     "text": [
      "Switched to branch 'master'\n"
     ]
    }
   ],
   "source": [
    "# Se regresa a la master branch\n",
    "!git checkout master"
   ]
  },
  {
   "cell_type": "code",
   "execution_count": 1,
   "metadata": {},
   "outputs": [
    {
     "output_type": "stream",
     "name": "stderr",
     "text": [
      "error: remote origin already exists.\n"
     ]
    }
   ],
   "source": [
    "# Se \"linkea\" el repositorio creado en Github\n",
    "!git remote add origin https://github.com/eddysanoli-galileo/Data-Science-en-Python.git"
   ]
  },
  {
   "cell_type": "code",
   "execution_count": 2,
   "metadata": {},
   "outputs": [
    {
     "output_type": "stream",
     "name": "stderr",
     "text": [
      "To https://github.com/eddysanoli-galileo/Data-Science-en-Python.git\n * [new branch]      Literatura -> Literatura\n * [new branch]      main -> main\n"
     ]
    }
   ],
   "source": [
    "# Se hace un push de todas las ramas y contenidos del\n",
    "# repositorio a Github.\n",
    "!git push \"https://github.com/eddysanoli-galileo/Data-Science-en-Python.git\" --all"
   ]
  }
 ]
}