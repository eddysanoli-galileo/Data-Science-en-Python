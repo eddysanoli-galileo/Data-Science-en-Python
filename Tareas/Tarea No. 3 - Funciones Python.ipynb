{
 "metadata": {
  "language_info": {
   "codemirror_mode": {
    "name": "ipython",
    "version": 3
   },
   "file_extension": ".py",
   "mimetype": "text/x-python",
   "name": "python",
   "nbconvert_exporter": "python",
   "pygments_lexer": "ipython3",
   "version": "3.7.3-final"
  },
  "orig_nbformat": 2,
  "kernelspec": {
   "name": "python3",
   "display_name": "Python 3.7.3 64-bit (conda)",
   "metadata": {
    "interpreter": {
     "hash": "a1d31626b74e081a2511bdb250181843aeb37f57fa00e9582994c820254847e2"
    }
   }
  }
 },
 "nbformat": 4,
 "nbformat_minor": 2,
 "cells": [
  {
   "source": [
    "# Tarea 3: Funciones en Python\n",
    "\n",
    "También llamadas sub-rutinas, procedimientos o métodos en otros lenguajes. Como parte de la tarea se deben investigar los siguientes temas:\n",
    "\n",
    "- Funciones en Python\n",
    "- Parámetros posicionales\n",
    "- Parámetros nombrados\n",
    "- Retorno de múltiples valores\n",
    "- Funciones como objetos y como parámetros de otras funciones\n",
    "- Funciones anónimas o lambda"
   ],
   "cell_type": "markdown",
   "metadata": {}
  },
  {
   "source": [
    "## Funciones en Python\n",
    "\n",
    "Estos consisten de bloques de código que únicamente se ejecutan cuando son llamados a través de la sintaxis `funcion(params)`. Los `params` de la función consisten de datos adicionales que requiere el bloque de código para ejecutarse correctamente.\n",
    "\n",
    "La función de abajo por ejemplo, únicamente generará valores de salida hasta que se le llame de la siguiente manera:\n",
    "\n",
    "`algebra(3, 2, True)`"
   ],
   "cell_type": "markdown",
   "metadata": {}
  },
  {
   "cell_type": "code",
   "execution_count": 3,
   "metadata": {},
   "outputs": [
    {
     "output_type": "stream",
     "name": "stdout",
     "text": [
      "3 + 2 = 5\n"
     ]
    }
   ],
   "source": [
    "def algebra(A, B, imprimir, operacion = \"Suma\"):\n",
    "\n",
    "    # Se calcula el resultado\n",
    "    if operacion == \"Suma\":\n",
    "        resultado = A + B\n",
    "        operando = \"+\"\n",
    "    elif operacion == \"Resta\":\n",
    "        resultado = A - B \n",
    "        operando = \"-\"\n",
    "    elif operacion == \"Multiplicacion\":\n",
    "        resultado = A * B\n",
    "        operando = \"x\"\n",
    "    elif operacion == \"Division\":\n",
    "        resultado = A / B  \n",
    "        operando = \"/\"\n",
    "\n",
    "    # Se imprime la operación realizada en caso el usuario lo desee\n",
    "    if imprimir:\n",
    "        print(str(A) + \" \" + operando + \" \" + str(B) + \" = \" + str(resultado))\n",
    "\n",
    "    return resultado\n",
    "\n",
    "\n",
    "# Llamada a la función\n",
    "Resultado = algebra(3,2,True)"
   ]
  },
  {
   "source": [
    "## Parámetros Posicionales\n",
    "\n",
    "Las funciones cuentan con parámetros que deben ser \"pasados\" a la función en un orden específico. Por ejemplo, en la función `algebra()`, los parámetros `A`, `B` e `imprimir` deben ser pasados a la función en ese orden específico o se obtendrán errores inesperados. A estos parámetros se les denomina \"parámetros posicionales\"."
   ],
   "cell_type": "markdown",
   "metadata": {}
  },
  {
   "cell_type": "code",
   "execution_count": 4,
   "metadata": {},
   "outputs": [
    {
     "output_type": "stream",
     "name": "stdout",
     "text": [
      "False + 1 = 1\n"
     ]
    }
   ],
   "source": [
    "A = 1\n",
    "B = 2\n",
    "imprimir = False\n",
    "\n",
    "# Los parámetros deben ser pasados en el orden: A, B, imprimir\n",
    "# o se obtendrán resultados inesperados.\n",
    "Resultado = algebra(imprimir,A,B)"
   ]
  },
  {
   "source": [
    "## Parámetros Nombrados\n",
    "\n",
    "Además de los parámetros posicionales, las funciones en python también cuentan con parámetros nombrados, parámetros opcionales que pueden ser pasados por el usuario para poder habilitar nuevas funcionalidades internas. Comúnmente estos parámetros cuentan con un valor por defecto definido dentro de la función, el cual puede ser sobre-escrito al llamar al parámetro por su nombre y luego igualándolo al valor que se desea. En la función anterior `operacion` es un parámetro nombrado y se puede llamar para cambiar la operación a realizar."
   ],
   "cell_type": "markdown",
   "metadata": {}
  },
  {
   "cell_type": "code",
   "execution_count": 5,
   "metadata": {},
   "outputs": [
    {
     "output_type": "stream",
     "name": "stdout",
     "text": [
      "1 - 2 = -1\n"
     ]
    }
   ],
   "source": [
    "A = 1\n",
    "B = 2\n",
    "imprimir = True\n",
    "\n",
    "# Se realizará una resta entre A y B en lugar de la suma por defecto\n",
    "Resultado = algebra(A,B,imprimir,operacion = \"Resta\")"
   ]
  },
  {
   "source": [
    "## Retorno de Múltiples Valores\n",
    "\n",
    "Una función puede tener más de un valor de salida. De hecho, puede retornar tantos valores como se desee, siempre y cuando estos se separen por medio de comas: `return A, B, C`. En estos casos la función se puede igualar a varios parámetros (`A,B,C = funcion()`) o a un solo parámetro y la salida consistirá de una tupla (`tupla = funcion()`)"
   ],
   "cell_type": "markdown",
   "metadata": {}
  },
  {
   "cell_type": "code",
   "execution_count": 11,
   "metadata": {},
   "outputs": [
    {
     "output_type": "stream",
     "name": "stdout",
     "text": [
      "Parametros Separados: 5 +\nTupla: (5, '+')\n"
     ]
    }
   ],
   "source": [
    "def algebra(A, B, imprimir, operacion = \"Suma\"):\n",
    "\n",
    "    # Se calcula el resultado\n",
    "    if operacion == \"Suma\":\n",
    "        resultado = A + B\n",
    "        operando = \"+\"\n",
    "    elif operacion == \"Resta\":\n",
    "        resultado = A - B \n",
    "        operando = \"-\"\n",
    "    elif operacion == \"Multiplicacion\":\n",
    "        resultado = A * B\n",
    "        operando = \"x\"\n",
    "    elif operacion == \"Division\":\n",
    "        resultado = A / B  \n",
    "        operando = \"/\"\n",
    "\n",
    "    # Se imprime la operación realizada en caso el usuario lo desee\n",
    "    if imprimir:\n",
    "        print(str(A) + \" \" + operando + \" \" + str(B) + \" = \" + str(resultado))\n",
    "\n",
    "    return resultado, operando\n",
    "\n",
    "# Múltiples salidas como parámetros separados\n",
    "Resultado, Operando = algebra(3,2,False)\n",
    "print(\"Parametros Separados:\", Resultado, Operando)\n",
    "\n",
    "\n",
    "# Múltiples salidas como una tupla\n",
    "Resultado = algebra(3,2,False)\n",
    "print(\"Tupla:\", Resultado)"
   ]
  },
  {
   "source": [
    "## Funciones como Objetos o Parámetros de Otras Funciones\n",
    "\n",
    "De acuerdo con [Chaitanya Baweja](https://medium.com/python-pandemonium/function-as-objects-in-python-d5215e6d1b0d#:~:text=Functions%20in%20python%20are%20first%20class%20objects.,elements%20in%20various%20data%20structures.) todo en python consiste de un objeto. Las funciones en particular, son consideradas \"objetos de primera clase\" lo que significa que una función puede:\n",
    "\n",
    "- Tener tipos\n",
    "- Ser utilizada como argumento para otra función\n",
    "- Ser usada como una expresión\n",
    "- Formar parte de diferentes estructuras de datos\n",
    "\n",
    "El segundo punto tiene implicaciones especiales, ya que esto permite que uno de los argumentos de una función pueda consistir de otra función. Por ejemplo, la función `algebra` puede ser re-escrita de manera que el usuario pueda especificar la operación a realizar entre los otros dos parámetros, al pasar la función que desea a realizar definida como otra función.\n"
   ],
   "cell_type": "markdown",
   "metadata": {}
  },
  {
   "cell_type": "code",
   "execution_count": 14,
   "metadata": {},
   "outputs": [
    {
     "output_type": "stream",
     "name": "stdout",
     "text": [
      "1 + 2 = 3\n"
     ]
    }
   ],
   "source": [
    "def suma(A,B):\n",
    "    resultado = A + B\n",
    "    return resultado\n",
    "\n",
    "def algebra(A,B,func):\n",
    "    salida = func(A,B)\n",
    "    return salida\n",
    "\n",
    "# Se definen los números a operar\n",
    "A = 1\n",
    "B = 2\n",
    "\n",
    "# Se operan sumándolos\n",
    "Resultado = algebra(A,B,suma)\n",
    "print(str(A) + \" + \" + str(B) + \" = \" + str(Resultado))"
   ]
  },
  {
   "source": [
    "## Funciones Lambda o Anónimas\n",
    "\n",
    "Estas consisten de funciones simples que carecen de una definición explícita (no es necesario utilizar la estructura `def funcion(params)`). Estas pueden tener tantos parámetros como se deseen, pero deben contener una única expresión. A continuación se muestra una función lambda encargada de sumar dos parámetros."
   ],
   "cell_type": "markdown",
   "metadata": {}
  },
  {
   "cell_type": "code",
   "execution_count": 15,
   "metadata": {},
   "outputs": [
    {
     "output_type": "stream",
     "name": "stdout",
     "text": [
      "1 + 2 = 3\n"
     ]
    }
   ],
   "source": [
    "Suma = lambda A,B : A + B\n",
    "print(str(A) + \" + \" + str(B) + \" = \" + str(Suma(A,B)))"
   ]
  }
 ]
}